{
 "cells": [
  {
   "cell_type": "markdown",
   "metadata": {
    "deletable": true,
    "editable": true
   },
   "source": [
    "## Notebook to explore core methods"
   ]
  },
  {
   "cell_type": "code",
   "execution_count": 1,
   "metadata": {
    "collapsed": false,
    "deletable": true,
    "editable": true
   },
   "outputs": [
    {
     "name": "stderr",
     "output_type": "stream",
     "text": [
      "/Users/BlueOwl1/anaconda/lib/python3.5/site-packages/matplotlib/font_manager.py:273: UserWarning: Matplotlib is building the font cache using fc-list. This may take a moment.\n",
      "  warnings.warn('Matplotlib is building the font cache using fc-list. This may take a moment.')\n",
      "/Users/BlueOwl1/anaconda/lib/python3.5/site-packages/matplotlib/font_manager.py:273: UserWarning: Matplotlib is building the font cache using fc-list. This may take a moment.\n",
      "  warnings.warn('Matplotlib is building the font cache using fc-list. This may take a moment.')\n"
     ]
    },
    {
     "ename": "ImportError",
     "evalue": "dlopen(/Users/BlueOwl1/anaconda/lib/python3.5/site-packages/fiona/ogrext.cpython-35m-darwin.so, 2): Library not loaded: @rpath/libgeos-3.5.0.dylib\n  Referenced from: /Users/BlueOwl1/anaconda/lib/libgdal.20.dylib\n  Reason: image not found",
     "output_type": "error",
     "traceback": [
      "\u001b[0;31m---------------------------------------------------------------------------\u001b[0m",
      "\u001b[0;31mImportError\u001b[0m                               Traceback (most recent call last)",
      "\u001b[0;32m<ipython-input-1-9987eb44a658>\u001b[0m in \u001b[0;36m<module>\u001b[0;34m()\u001b[0m\n\u001b[1;32m      4\u001b[0m \u001b[0;32mimport\u001b[0m \u001b[0mnumpy\u001b[0m \u001b[0;32mas\u001b[0m \u001b[0mnp\u001b[0m\u001b[0;34m\u001b[0m\u001b[0m\n\u001b[1;32m      5\u001b[0m \u001b[0;32mimport\u001b[0m \u001b[0mmatplotlib\u001b[0m\u001b[0;34m.\u001b[0m\u001b[0mpyplot\u001b[0m \u001b[0;32mas\u001b[0m \u001b[0mplt\u001b[0m\u001b[0;34m\u001b[0m\u001b[0m\n\u001b[0;32m----> 6\u001b[0;31m \u001b[0;32mimport\u001b[0m \u001b[0mosmnx\u001b[0m \u001b[0;32mas\u001b[0m \u001b[0mox\u001b[0m\u001b[0;34m\u001b[0m\u001b[0m\n\u001b[0m",
      "\u001b[0;32m/Users/BlueOwl1/anaconda/lib/python3.5/site-packages/osmnx/__init__.py\u001b[0m in \u001b[0;36m<module>\u001b[0;34m()\u001b[0m\n\u001b[1;32m      6\u001b[0m \u001b[0;31m###################################################################################################\u001b[0m\u001b[0;34m\u001b[0m\u001b[0;34m\u001b[0m\u001b[0m\n\u001b[1;32m      7\u001b[0m \u001b[0;34m\u001b[0m\u001b[0m\n\u001b[0;32m----> 8\u001b[0;31m \u001b[0;32mfrom\u001b[0m \u001b[0;34m.\u001b[0m\u001b[0mcore\u001b[0m \u001b[0;32mimport\u001b[0m \u001b[0;34m*\u001b[0m\u001b[0;34m\u001b[0m\u001b[0m\n\u001b[0m\u001b[1;32m      9\u001b[0m \u001b[0;32mfrom\u001b[0m \u001b[0;34m.\u001b[0m\u001b[0mplot\u001b[0m \u001b[0;32mimport\u001b[0m \u001b[0;34m*\u001b[0m\u001b[0;34m\u001b[0m\u001b[0m\n\u001b[1;32m     10\u001b[0m \u001b[0;32mfrom\u001b[0m \u001b[0;34m.\u001b[0m\u001b[0mprojection\u001b[0m \u001b[0;32mimport\u001b[0m \u001b[0;34m*\u001b[0m\u001b[0;34m\u001b[0m\u001b[0m\n",
      "\u001b[0;32m/Users/BlueOwl1/anaconda/lib/python3.5/site-packages/osmnx/core.py\u001b[0m in \u001b[0;36m<module>\u001b[0;34m()\u001b[0m\n\u001b[1;32m     18\u001b[0m \u001b[0;32mimport\u001b[0m \u001b[0mnumpy\u001b[0m \u001b[0;32mas\u001b[0m \u001b[0mnp\u001b[0m\u001b[0;34m\u001b[0m\u001b[0m\n\u001b[1;32m     19\u001b[0m \u001b[0;32mimport\u001b[0m \u001b[0mpandas\u001b[0m \u001b[0;32mas\u001b[0m \u001b[0mpd\u001b[0m\u001b[0;34m\u001b[0m\u001b[0m\n\u001b[0;32m---> 20\u001b[0;31m \u001b[0;32mimport\u001b[0m \u001b[0mgeopandas\u001b[0m \u001b[0;32mas\u001b[0m \u001b[0mgpd\u001b[0m\u001b[0;34m\u001b[0m\u001b[0m\n\u001b[0m\u001b[1;32m     21\u001b[0m \u001b[0;32mimport\u001b[0m \u001b[0mnetworkx\u001b[0m \u001b[0;32mas\u001b[0m \u001b[0mnx\u001b[0m\u001b[0;34m\u001b[0m\u001b[0m\n\u001b[1;32m     22\u001b[0m \u001b[0;34m\u001b[0m\u001b[0m\n",
      "\u001b[0;32m/Users/BlueOwl1/anaconda/lib/python3.5/site-packages/geopandas/__init__.py\u001b[0m in \u001b[0;36m<module>\u001b[0;34m()\u001b[0m\n\u001b[1;32m      2\u001b[0m \u001b[0;32mfrom\u001b[0m \u001b[0mgeopandas\u001b[0m\u001b[0;34m.\u001b[0m\u001b[0mgeodataframe\u001b[0m \u001b[0;32mimport\u001b[0m \u001b[0mGeoDataFrame\u001b[0m\u001b[0;34m\u001b[0m\u001b[0m\n\u001b[1;32m      3\u001b[0m \u001b[0;34m\u001b[0m\u001b[0m\n\u001b[0;32m----> 4\u001b[0;31m \u001b[0;32mfrom\u001b[0m \u001b[0mgeopandas\u001b[0m\u001b[0;34m.\u001b[0m\u001b[0mio\u001b[0m\u001b[0;34m.\u001b[0m\u001b[0mfile\u001b[0m \u001b[0;32mimport\u001b[0m \u001b[0mread_file\u001b[0m\u001b[0;34m\u001b[0m\u001b[0m\n\u001b[0m\u001b[1;32m      5\u001b[0m \u001b[0;32mfrom\u001b[0m \u001b[0mgeopandas\u001b[0m\u001b[0;34m.\u001b[0m\u001b[0mio\u001b[0m\u001b[0;34m.\u001b[0m\u001b[0msql\u001b[0m \u001b[0;32mimport\u001b[0m \u001b[0mread_postgis\u001b[0m\u001b[0;34m\u001b[0m\u001b[0m\n\u001b[1;32m      6\u001b[0m \u001b[0;32mfrom\u001b[0m \u001b[0mgeopandas\u001b[0m\u001b[0;34m.\u001b[0m\u001b[0mtools\u001b[0m \u001b[0;32mimport\u001b[0m \u001b[0msjoin\u001b[0m\u001b[0;34m\u001b[0m\u001b[0m\n",
      "\u001b[0;32m/Users/BlueOwl1/anaconda/lib/python3.5/site-packages/geopandas/io/file.py\u001b[0m in \u001b[0;36m<module>\u001b[0;34m()\u001b[0m\n\u001b[1;32m      1\u001b[0m \u001b[0;32mimport\u001b[0m \u001b[0mos\u001b[0m\u001b[0;34m\u001b[0m\u001b[0m\n\u001b[1;32m      2\u001b[0m \u001b[0;34m\u001b[0m\u001b[0m\n\u001b[0;32m----> 3\u001b[0;31m \u001b[0;32mimport\u001b[0m \u001b[0mfiona\u001b[0m\u001b[0;34m\u001b[0m\u001b[0m\n\u001b[0m\u001b[1;32m      4\u001b[0m \u001b[0;32mimport\u001b[0m \u001b[0mnumpy\u001b[0m \u001b[0;32mas\u001b[0m \u001b[0mnp\u001b[0m\u001b[0;34m\u001b[0m\u001b[0m\n\u001b[1;32m      5\u001b[0m \u001b[0;32mfrom\u001b[0m \u001b[0mshapely\u001b[0m\u001b[0;34m.\u001b[0m\u001b[0mgeometry\u001b[0m \u001b[0;32mimport\u001b[0m \u001b[0mmapping\u001b[0m\u001b[0;34m\u001b[0m\u001b[0m\n",
      "\u001b[0;32m/Users/BlueOwl1/anaconda/lib/python3.5/site-packages/fiona/__init__.py\u001b[0m in \u001b[0;36m<module>\u001b[0;34m()\u001b[0m\n\u001b[1;32m     67\u001b[0m \u001b[0;32mfrom\u001b[0m \u001b[0msix\u001b[0m \u001b[0;32mimport\u001b[0m \u001b[0mstring_types\u001b[0m\u001b[0;34m\u001b[0m\u001b[0m\n\u001b[1;32m     68\u001b[0m \u001b[0;34m\u001b[0m\u001b[0m\n\u001b[0;32m---> 69\u001b[0;31m \u001b[0;32mfrom\u001b[0m \u001b[0mfiona\u001b[0m\u001b[0;34m.\u001b[0m\u001b[0mcollection\u001b[0m \u001b[0;32mimport\u001b[0m \u001b[0mCollection\u001b[0m\u001b[0;34m,\u001b[0m \u001b[0mBytesCollection\u001b[0m\u001b[0;34m,\u001b[0m \u001b[0mvsi_path\u001b[0m\u001b[0;34m\u001b[0m\u001b[0m\n\u001b[0m\u001b[1;32m     70\u001b[0m \u001b[0;32mfrom\u001b[0m \u001b[0mfiona\u001b[0m\u001b[0;34m.\u001b[0m\u001b[0m_drivers\u001b[0m \u001b[0;32mimport\u001b[0m \u001b[0mdriver_count\u001b[0m\u001b[0;34m,\u001b[0m \u001b[0mGDALEnv\u001b[0m\u001b[0;34m\u001b[0m\u001b[0m\n\u001b[1;32m     71\u001b[0m \u001b[0;32mfrom\u001b[0m \u001b[0mfiona\u001b[0m\u001b[0;34m.\u001b[0m\u001b[0mdrvsupport\u001b[0m \u001b[0;32mimport\u001b[0m \u001b[0msupported_drivers\u001b[0m\u001b[0;34m\u001b[0m\u001b[0m\n",
      "\u001b[0;32m/Users/BlueOwl1/anaconda/lib/python3.5/site-packages/fiona/collection.py\u001b[0m in \u001b[0;36m<module>\u001b[0;34m()\u001b[0m\n\u001b[1;32m      6\u001b[0m \u001b[0;34m\u001b[0m\u001b[0m\n\u001b[1;32m      7\u001b[0m \u001b[0;32mfrom\u001b[0m \u001b[0mfiona\u001b[0m \u001b[0;32mimport\u001b[0m \u001b[0mcompat\u001b[0m\u001b[0;34m\u001b[0m\u001b[0m\n\u001b[0;32m----> 8\u001b[0;31m \u001b[0;32mfrom\u001b[0m \u001b[0mfiona\u001b[0m\u001b[0;34m.\u001b[0m\u001b[0mogrext\u001b[0m \u001b[0;32mimport\u001b[0m \u001b[0mIterator\u001b[0m\u001b[0;34m,\u001b[0m \u001b[0mItemsIterator\u001b[0m\u001b[0;34m,\u001b[0m \u001b[0mKeysIterator\u001b[0m\u001b[0;34m\u001b[0m\u001b[0m\n\u001b[0m\u001b[1;32m      9\u001b[0m \u001b[0;32mfrom\u001b[0m \u001b[0mfiona\u001b[0m\u001b[0;34m.\u001b[0m\u001b[0mogrext\u001b[0m \u001b[0;32mimport\u001b[0m \u001b[0mSession\u001b[0m\u001b[0;34m,\u001b[0m \u001b[0mWritingSession\u001b[0m\u001b[0;34m\u001b[0m\u001b[0m\n\u001b[1;32m     10\u001b[0m from fiona.ogrext import (\n",
      "\u001b[0;31mImportError\u001b[0m: dlopen(/Users/BlueOwl1/anaconda/lib/python3.5/site-packages/fiona/ogrext.cpython-35m-darwin.so, 2): Library not loaded: @rpath/libgeos-3.5.0.dylib\n  Referenced from: /Users/BlueOwl1/anaconda/lib/libgdal.20.dylib\n  Reason: image not found"
     ]
    }
   ],
   "source": [
    "%matplotlib inline\n",
    "\n",
    "import pandas as pd\n",
    "import numpy as np\n",
    "import matplotlib.pyplot as plt\n",
    "import osmnx as ox"
   ]
  },
  {
   "cell_type": "markdown",
   "metadata": {
    "deletable": true,
    "editable": true
   },
   "source": [
    "For this notebook, we will focus on exploring a 10,000 point sample of the 1.1 trillion example dataset."
   ]
  },
  {
   "cell_type": "markdown",
   "metadata": {
    "deletable": true,
    "editable": true
   },
   "source": [
    "### Explore raw taxi data"
   ]
  },
  {
   "cell_type": "markdown",
   "metadata": {
    "deletable": true,
    "editable": true
   },
   "source": [
    "Read in the first 10 rows of the sample dataset to get an idea of what the raw data looks like. The data dictionary for the variables is [here](http://www.nyc.gov/html/tlc/downloads/pdf/data_dictionary_trip_records_yellow.pdf)."
   ]
  },
  {
   "cell_type": "code",
   "execution_count": 2,
   "metadata": {
    "collapsed": false,
    "deletable": true,
    "editable": true
   },
   "outputs": [
    {
     "data": {
      "text/html": [
       "<div>\n",
       "<table border=\"1\" class=\"dataframe\">\n",
       "  <thead>\n",
       "    <tr style=\"text-align: right;\">\n",
       "      <th></th>\n",
       "      <th>VendorID</th>\n",
       "      <th>tpep_pickup_datetime</th>\n",
       "      <th>tpep_dropoff_datetime</th>\n",
       "      <th>passenger_count</th>\n",
       "      <th>trip_distance</th>\n",
       "      <th>pickup_longitude</th>\n",
       "      <th>pickup_latitude</th>\n",
       "      <th>RatecodeID</th>\n",
       "      <th>store_and_fwd_flag</th>\n",
       "      <th>dropoff_longitude</th>\n",
       "      <th>dropoff_latitude</th>\n",
       "      <th>payment_type</th>\n",
       "      <th>fare_amount</th>\n",
       "      <th>extra</th>\n",
       "      <th>mta_tax</th>\n",
       "      <th>tip_amount</th>\n",
       "      <th>tolls_amount</th>\n",
       "      <th>improvement_surcharge</th>\n",
       "      <th>total_amount</th>\n",
       "    </tr>\n",
       "  </thead>\n",
       "  <tbody>\n",
       "    <tr>\n",
       "      <th>0</th>\n",
       "      <td>2</td>\n",
       "      <td>2016-02-25 17:24:20</td>\n",
       "      <td>2016-02-25 17:27:20</td>\n",
       "      <td>2</td>\n",
       "      <td>0.70</td>\n",
       "      <td>-73.947250</td>\n",
       "      <td>40.763771</td>\n",
       "      <td>1</td>\n",
       "      <td>N</td>\n",
       "      <td>-73.992012</td>\n",
       "      <td>40.735390</td>\n",
       "      <td>2</td>\n",
       "      <td>5.0</td>\n",
       "      <td>0.0</td>\n",
       "      <td>0.5</td>\n",
       "      <td>0.00</td>\n",
       "      <td>0</td>\n",
       "      <td>0.3</td>\n",
       "      <td>5.80</td>\n",
       "    </tr>\n",
       "    <tr>\n",
       "      <th>1</th>\n",
       "      <td>2</td>\n",
       "      <td>2016-02-25 23:10:50</td>\n",
       "      <td>2016-02-25 23:31:50</td>\n",
       "      <td>2</td>\n",
       "      <td>5.52</td>\n",
       "      <td>-73.983017</td>\n",
       "      <td>40.750992</td>\n",
       "      <td>1</td>\n",
       "      <td>N</td>\n",
       "      <td>-73.988586</td>\n",
       "      <td>40.758839</td>\n",
       "      <td>2</td>\n",
       "      <td>20.0</td>\n",
       "      <td>0.5</td>\n",
       "      <td>0.5</td>\n",
       "      <td>0.00</td>\n",
       "      <td>0</td>\n",
       "      <td>0.3</td>\n",
       "      <td>21.30</td>\n",
       "    </tr>\n",
       "    <tr>\n",
       "      <th>2</th>\n",
       "      <td>2</td>\n",
       "      <td>2016-02-01 00:00:01</td>\n",
       "      <td>2016-02-01 00:10:52</td>\n",
       "      <td>6</td>\n",
       "      <td>1.99</td>\n",
       "      <td>-73.992340</td>\n",
       "      <td>40.758202</td>\n",
       "      <td>1</td>\n",
       "      <td>N</td>\n",
       "      <td>-73.964355</td>\n",
       "      <td>40.757977</td>\n",
       "      <td>1</td>\n",
       "      <td>9.5</td>\n",
       "      <td>0.5</td>\n",
       "      <td>0.5</td>\n",
       "      <td>0.70</td>\n",
       "      <td>0</td>\n",
       "      <td>0.3</td>\n",
       "      <td>11.50</td>\n",
       "    </tr>\n",
       "    <tr>\n",
       "      <th>3</th>\n",
       "      <td>1</td>\n",
       "      <td>2016-02-01 00:00:04</td>\n",
       "      <td>2016-02-01 00:05:16</td>\n",
       "      <td>1</td>\n",
       "      <td>1.50</td>\n",
       "      <td>-73.981453</td>\n",
       "      <td>40.749722</td>\n",
       "      <td>1</td>\n",
       "      <td>N</td>\n",
       "      <td>-73.982323</td>\n",
       "      <td>40.763985</td>\n",
       "      <td>2</td>\n",
       "      <td>6.5</td>\n",
       "      <td>0.5</td>\n",
       "      <td>0.5</td>\n",
       "      <td>0.00</td>\n",
       "      <td>0</td>\n",
       "      <td>0.3</td>\n",
       "      <td>7.80</td>\n",
       "    </tr>\n",
       "    <tr>\n",
       "      <th>4</th>\n",
       "      <td>2</td>\n",
       "      <td>2016-02-01 00:00:05</td>\n",
       "      <td>2016-02-01 00:20:59</td>\n",
       "      <td>1</td>\n",
       "      <td>5.60</td>\n",
       "      <td>-74.000603</td>\n",
       "      <td>40.729755</td>\n",
       "      <td>1</td>\n",
       "      <td>N</td>\n",
       "      <td>-73.951324</td>\n",
       "      <td>40.669834</td>\n",
       "      <td>1</td>\n",
       "      <td>20.0</td>\n",
       "      <td>0.5</td>\n",
       "      <td>0.5</td>\n",
       "      <td>4.00</td>\n",
       "      <td>0</td>\n",
       "      <td>0.3</td>\n",
       "      <td>25.30</td>\n",
       "    </tr>\n",
       "    <tr>\n",
       "      <th>5</th>\n",
       "      <td>2</td>\n",
       "      <td>2016-02-01 00:00:06</td>\n",
       "      <td>2016-02-01 00:15:01</td>\n",
       "      <td>1</td>\n",
       "      <td>4.69</td>\n",
       "      <td>-74.005104</td>\n",
       "      <td>40.719006</td>\n",
       "      <td>1</td>\n",
       "      <td>N</td>\n",
       "      <td>-73.947090</td>\n",
       "      <td>40.688885</td>\n",
       "      <td>2</td>\n",
       "      <td>16.0</td>\n",
       "      <td>0.5</td>\n",
       "      <td>0.5</td>\n",
       "      <td>0.00</td>\n",
       "      <td>0</td>\n",
       "      <td>0.3</td>\n",
       "      <td>17.30</td>\n",
       "    </tr>\n",
       "    <tr>\n",
       "      <th>6</th>\n",
       "      <td>2</td>\n",
       "      <td>2016-02-01 00:00:09</td>\n",
       "      <td>2016-02-01 00:05:35</td>\n",
       "      <td>1</td>\n",
       "      <td>1.45</td>\n",
       "      <td>-73.986000</td>\n",
       "      <td>40.762146</td>\n",
       "      <td>1</td>\n",
       "      <td>N</td>\n",
       "      <td>-73.990608</td>\n",
       "      <td>40.746208</td>\n",
       "      <td>1</td>\n",
       "      <td>6.5</td>\n",
       "      <td>0.5</td>\n",
       "      <td>0.5</td>\n",
       "      <td>1.56</td>\n",
       "      <td>0</td>\n",
       "      <td>0.3</td>\n",
       "      <td>9.36</td>\n",
       "    </tr>\n",
       "    <tr>\n",
       "      <th>7</th>\n",
       "      <td>2</td>\n",
       "      <td>2016-02-01 00:00:19</td>\n",
       "      <td>2016-02-01 00:06:35</td>\n",
       "      <td>1</td>\n",
       "      <td>1.10</td>\n",
       "      <td>-73.966331</td>\n",
       "      <td>40.773422</td>\n",
       "      <td>1</td>\n",
       "      <td>N</td>\n",
       "      <td>-73.956108</td>\n",
       "      <td>40.781422</td>\n",
       "      <td>2</td>\n",
       "      <td>6.5</td>\n",
       "      <td>0.5</td>\n",
       "      <td>0.5</td>\n",
       "      <td>0.00</td>\n",
       "      <td>0</td>\n",
       "      <td>0.3</td>\n",
       "      <td>7.80</td>\n",
       "    </tr>\n",
       "    <tr>\n",
       "      <th>8</th>\n",
       "      <td>2</td>\n",
       "      <td>2016-02-01 00:00:21</td>\n",
       "      <td>2016-02-01 00:06:32</td>\n",
       "      <td>1</td>\n",
       "      <td>1.96</td>\n",
       "      <td>-73.976555</td>\n",
       "      <td>40.765697</td>\n",
       "      <td>1</td>\n",
       "      <td>N</td>\n",
       "      <td>-73.978973</td>\n",
       "      <td>40.744381</td>\n",
       "      <td>1</td>\n",
       "      <td>7.5</td>\n",
       "      <td>0.5</td>\n",
       "      <td>0.5</td>\n",
       "      <td>1.00</td>\n",
       "      <td>0</td>\n",
       "      <td>0.3</td>\n",
       "      <td>9.80</td>\n",
       "    </tr>\n",
       "    <tr>\n",
       "      <th>9</th>\n",
       "      <td>2</td>\n",
       "      <td>2016-02-01 00:00:21</td>\n",
       "      <td>2016-02-01 00:16:59</td>\n",
       "      <td>2</td>\n",
       "      <td>4.50</td>\n",
       "      <td>-73.976585</td>\n",
       "      <td>40.764931</td>\n",
       "      <td>1</td>\n",
       "      <td>N</td>\n",
       "      <td>-73.911118</td>\n",
       "      <td>40.768909</td>\n",
       "      <td>2</td>\n",
       "      <td>16.0</td>\n",
       "      <td>0.5</td>\n",
       "      <td>0.5</td>\n",
       "      <td>0.00</td>\n",
       "      <td>0</td>\n",
       "      <td>0.3</td>\n",
       "      <td>17.30</td>\n",
       "    </tr>\n",
       "  </tbody>\n",
       "</table>\n",
       "</div>"
      ],
      "text/plain": [
       "   VendorID tpep_pickup_datetime tpep_dropoff_datetime  passenger_count  \\\n",
       "0         2  2016-02-25 17:24:20   2016-02-25 17:27:20                2   \n",
       "1         2  2016-02-25 23:10:50   2016-02-25 23:31:50                2   \n",
       "2         2  2016-02-01 00:00:01   2016-02-01 00:10:52                6   \n",
       "3         1  2016-02-01 00:00:04   2016-02-01 00:05:16                1   \n",
       "4         2  2016-02-01 00:00:05   2016-02-01 00:20:59                1   \n",
       "5         2  2016-02-01 00:00:06   2016-02-01 00:15:01                1   \n",
       "6         2  2016-02-01 00:00:09   2016-02-01 00:05:35                1   \n",
       "7         2  2016-02-01 00:00:19   2016-02-01 00:06:35                1   \n",
       "8         2  2016-02-01 00:00:21   2016-02-01 00:06:32                1   \n",
       "9         2  2016-02-01 00:00:21   2016-02-01 00:16:59                2   \n",
       "\n",
       "   trip_distance  pickup_longitude  pickup_latitude  RatecodeID  \\\n",
       "0           0.70        -73.947250        40.763771           1   \n",
       "1           5.52        -73.983017        40.750992           1   \n",
       "2           1.99        -73.992340        40.758202           1   \n",
       "3           1.50        -73.981453        40.749722           1   \n",
       "4           5.60        -74.000603        40.729755           1   \n",
       "5           4.69        -74.005104        40.719006           1   \n",
       "6           1.45        -73.986000        40.762146           1   \n",
       "7           1.10        -73.966331        40.773422           1   \n",
       "8           1.96        -73.976555        40.765697           1   \n",
       "9           4.50        -73.976585        40.764931           1   \n",
       "\n",
       "  store_and_fwd_flag  dropoff_longitude  dropoff_latitude  payment_type  \\\n",
       "0                  N         -73.992012         40.735390             2   \n",
       "1                  N         -73.988586         40.758839             2   \n",
       "2                  N         -73.964355         40.757977             1   \n",
       "3                  N         -73.982323         40.763985             2   \n",
       "4                  N         -73.951324         40.669834             1   \n",
       "5                  N         -73.947090         40.688885             2   \n",
       "6                  N         -73.990608         40.746208             1   \n",
       "7                  N         -73.956108         40.781422             2   \n",
       "8                  N         -73.978973         40.744381             1   \n",
       "9                  N         -73.911118         40.768909             2   \n",
       "\n",
       "   fare_amount  extra  mta_tax  tip_amount  tolls_amount  \\\n",
       "0          5.0    0.0      0.5        0.00             0   \n",
       "1         20.0    0.5      0.5        0.00             0   \n",
       "2          9.5    0.5      0.5        0.70             0   \n",
       "3          6.5    0.5      0.5        0.00             0   \n",
       "4         20.0    0.5      0.5        4.00             0   \n",
       "5         16.0    0.5      0.5        0.00             0   \n",
       "6          6.5    0.5      0.5        1.56             0   \n",
       "7          6.5    0.5      0.5        0.00             0   \n",
       "8          7.5    0.5      0.5        1.00             0   \n",
       "9         16.0    0.5      0.5        0.00             0   \n",
       "\n",
       "   improvement_surcharge  total_amount  \n",
       "0                    0.3          5.80  \n",
       "1                    0.3         21.30  \n",
       "2                    0.3         11.50  \n",
       "3                    0.3          7.80  \n",
       "4                    0.3         25.30  \n",
       "5                    0.3         17.30  \n",
       "6                    0.3          9.36  \n",
       "7                    0.3          7.80  \n",
       "8                    0.3          9.80  \n",
       "9                    0.3         17.30  "
      ]
     },
     "execution_count": 2,
     "metadata": {},
     "output_type": "execute_result"
    }
   ],
   "source": [
    "data = pd.read_csv(\"sample_data/yellow_tripdata_2016-02_sample.csv\", nrows=10)\n",
    "data"
   ]
  },
  {
   "cell_type": "markdown",
   "metadata": {
    "deletable": true,
    "editable": true
   },
   "source": [
    "Adjust what is read to only include data we might use and to parse dates when the data is being ingested. Read the entire dataset to check for parsing errors and to have the data available for further exploration."
   ]
  },
  {
   "cell_type": "code",
   "execution_count": 3,
   "metadata": {
    "collapsed": false,
    "deletable": true,
    "editable": true
   },
   "outputs": [
    {
     "data": {
      "text/html": [
       "<div>\n",
       "<table border=\"1\" class=\"dataframe\">\n",
       "  <thead>\n",
       "    <tr style=\"text-align: right;\">\n",
       "      <th></th>\n",
       "      <th>tpep_pickup_datetime</th>\n",
       "      <th>tpep_dropoff_datetime</th>\n",
       "      <th>trip_distance</th>\n",
       "      <th>pickup_longitude</th>\n",
       "      <th>pickup_latitude</th>\n",
       "      <th>dropoff_longitude</th>\n",
       "      <th>dropoff_latitude</th>\n",
       "    </tr>\n",
       "  </thead>\n",
       "  <tbody>\n",
       "    <tr>\n",
       "      <th>0</th>\n",
       "      <td>2016-02-25 17:24:20</td>\n",
       "      <td>2016-02-25 17:27:20</td>\n",
       "      <td>0.70</td>\n",
       "      <td>-73.947250</td>\n",
       "      <td>40.763771</td>\n",
       "      <td>-73.992012</td>\n",
       "      <td>40.735390</td>\n",
       "    </tr>\n",
       "    <tr>\n",
       "      <th>1</th>\n",
       "      <td>2016-02-25 23:10:50</td>\n",
       "      <td>2016-02-25 23:31:50</td>\n",
       "      <td>5.52</td>\n",
       "      <td>-73.983017</td>\n",
       "      <td>40.750992</td>\n",
       "      <td>-73.988586</td>\n",
       "      <td>40.758839</td>\n",
       "    </tr>\n",
       "    <tr>\n",
       "      <th>2</th>\n",
       "      <td>2016-02-01 00:00:01</td>\n",
       "      <td>2016-02-01 00:10:52</td>\n",
       "      <td>1.99</td>\n",
       "      <td>-73.992340</td>\n",
       "      <td>40.758202</td>\n",
       "      <td>-73.964355</td>\n",
       "      <td>40.757977</td>\n",
       "    </tr>\n",
       "    <tr>\n",
       "      <th>3</th>\n",
       "      <td>2016-02-01 00:00:04</td>\n",
       "      <td>2016-02-01 00:05:16</td>\n",
       "      <td>1.50</td>\n",
       "      <td>-73.981453</td>\n",
       "      <td>40.749722</td>\n",
       "      <td>-73.982323</td>\n",
       "      <td>40.763985</td>\n",
       "    </tr>\n",
       "    <tr>\n",
       "      <th>4</th>\n",
       "      <td>2016-02-01 00:00:05</td>\n",
       "      <td>2016-02-01 00:20:59</td>\n",
       "      <td>5.60</td>\n",
       "      <td>-74.000603</td>\n",
       "      <td>40.729755</td>\n",
       "      <td>-73.951324</td>\n",
       "      <td>40.669834</td>\n",
       "    </tr>\n",
       "    <tr>\n",
       "      <th>5</th>\n",
       "      <td>2016-02-01 00:00:06</td>\n",
       "      <td>2016-02-01 00:15:01</td>\n",
       "      <td>4.69</td>\n",
       "      <td>-74.005104</td>\n",
       "      <td>40.719006</td>\n",
       "      <td>-73.947090</td>\n",
       "      <td>40.688885</td>\n",
       "    </tr>\n",
       "    <tr>\n",
       "      <th>6</th>\n",
       "      <td>2016-02-01 00:00:09</td>\n",
       "      <td>2016-02-01 00:05:35</td>\n",
       "      <td>1.45</td>\n",
       "      <td>-73.986000</td>\n",
       "      <td>40.762146</td>\n",
       "      <td>-73.990608</td>\n",
       "      <td>40.746208</td>\n",
       "    </tr>\n",
       "    <tr>\n",
       "      <th>7</th>\n",
       "      <td>2016-02-01 00:00:19</td>\n",
       "      <td>2016-02-01 00:06:35</td>\n",
       "      <td>1.10</td>\n",
       "      <td>-73.966331</td>\n",
       "      <td>40.773422</td>\n",
       "      <td>-73.956108</td>\n",
       "      <td>40.781422</td>\n",
       "    </tr>\n",
       "    <tr>\n",
       "      <th>8</th>\n",
       "      <td>2016-02-01 00:00:21</td>\n",
       "      <td>2016-02-01 00:06:32</td>\n",
       "      <td>1.96</td>\n",
       "      <td>-73.976555</td>\n",
       "      <td>40.765697</td>\n",
       "      <td>-73.978973</td>\n",
       "      <td>40.744381</td>\n",
       "    </tr>\n",
       "    <tr>\n",
       "      <th>9</th>\n",
       "      <td>2016-02-01 00:00:21</td>\n",
       "      <td>2016-02-01 00:16:59</td>\n",
       "      <td>4.50</td>\n",
       "      <td>-73.976585</td>\n",
       "      <td>40.764931</td>\n",
       "      <td>-73.911118</td>\n",
       "      <td>40.768909</td>\n",
       "    </tr>\n",
       "  </tbody>\n",
       "</table>\n",
       "</div>"
      ],
      "text/plain": [
       "  tpep_pickup_datetime tpep_dropoff_datetime  trip_distance  pickup_longitude  \\\n",
       "0  2016-02-25 17:24:20   2016-02-25 17:27:20           0.70        -73.947250   \n",
       "1  2016-02-25 23:10:50   2016-02-25 23:31:50           5.52        -73.983017   \n",
       "2  2016-02-01 00:00:01   2016-02-01 00:10:52           1.99        -73.992340   \n",
       "3  2016-02-01 00:00:04   2016-02-01 00:05:16           1.50        -73.981453   \n",
       "4  2016-02-01 00:00:05   2016-02-01 00:20:59           5.60        -74.000603   \n",
       "5  2016-02-01 00:00:06   2016-02-01 00:15:01           4.69        -74.005104   \n",
       "6  2016-02-01 00:00:09   2016-02-01 00:05:35           1.45        -73.986000   \n",
       "7  2016-02-01 00:00:19   2016-02-01 00:06:35           1.10        -73.966331   \n",
       "8  2016-02-01 00:00:21   2016-02-01 00:06:32           1.96        -73.976555   \n",
       "9  2016-02-01 00:00:21   2016-02-01 00:16:59           4.50        -73.976585   \n",
       "\n",
       "   pickup_latitude  dropoff_longitude  dropoff_latitude  \n",
       "0        40.763771         -73.992012         40.735390  \n",
       "1        40.750992         -73.988586         40.758839  \n",
       "2        40.758202         -73.964355         40.757977  \n",
       "3        40.749722         -73.982323         40.763985  \n",
       "4        40.729755         -73.951324         40.669834  \n",
       "5        40.719006         -73.947090         40.688885  \n",
       "6        40.762146         -73.990608         40.746208  \n",
       "7        40.773422         -73.956108         40.781422  \n",
       "8        40.765697         -73.978973         40.744381  \n",
       "9        40.764931         -73.911118         40.768909  "
      ]
     },
     "execution_count": 3,
     "metadata": {},
     "output_type": "execute_result"
    }
   ],
   "source": [
    "data = pd.read_csv(\"sample_data/yellow_tripdata_2016-02_sample.csv\", \n",
    "                   usecols=[\"tpep_pickup_datetime\", \n",
    "                            \"tpep_dropoff_datetime\", \n",
    "                            \"trip_distance\", \n",
    "                            \"pickup_longitude\", \n",
    "                            \"pickup_latitude\", \n",
    "                            \"dropoff_longitude\", \n",
    "                            \"dropoff_latitude\"],\n",
    "                   parse_dates=[\"tpep_pickup_datetime\", \n",
    "                                \"tpep_dropoff_datetime\"],\n",
    "                   infer_datetime_format=True)\n",
    "\n",
    "data.head(10)"
   ]
  },
  {
   "cell_type": "markdown",
   "metadata": {
    "deletable": true,
    "editable": true
   },
   "source": [
    "#### Time\n",
    "\n",
    "The pickup and dropoff times are interesting. Let's use these variables to get the number of hours in each trip."
   ]
  },
  {
   "cell_type": "code",
   "execution_count": 4,
   "metadata": {
    "collapsed": false,
    "deletable": true,
    "editable": true
   },
   "outputs": [
    {
     "data": {
      "image/png": "[encoded data removed]",
      "text/plain": [
       "<matplotlib.figure.Figure at 0x114001da0>"
      ]
     },
     "metadata": {},
     "output_type": "display_data"
    }
   ],
   "source": [
    "data[\"trip_time\"] = data.tpep_dropoff_datetime - data.tpep_pickup_datetime\n",
    "data[\"trip_time_in_hours\"] = data.trip_time/np.timedelta64(1, 'h')\n",
    "\n",
    "# Distribution of trip distance in minutes\n",
    "(data[data.trip_time_in_hours <= 1].trip_time_in_hours*60).hist(bins=50)\n",
    "plt.title(\"Distribution of trip times\\nthat are less than an hour\")\n",
    "plt.xlabel(\"Minutes\");"
   ]
  },
  {
   "cell_type": "markdown",
   "metadata": {
    "deletable": true,
    "editable": true
   },
   "source": [
    "Let's see some basic stats on the data."
   ]
  },
  {
   "cell_type": "code",
   "execution_count": 5,
   "metadata": {
    "collapsed": false,
    "deletable": true,
    "editable": true
   },
   "outputs": [
    {
     "data": {
      "text/html": [
       "<div>\n",
       "<table border=\"1\" class=\"dataframe\">\n",
       "  <thead>\n",
       "    <tr style=\"text-align: right;\">\n",
       "      <th></th>\n",
       "      <th>trip_distance</th>\n",
       "      <th>pickup_longitude</th>\n",
       "      <th>pickup_latitude</th>\n",
       "      <th>dropoff_longitude</th>\n",
       "      <th>dropoff_latitude</th>\n",
       "      <th>trip_time</th>\n",
       "      <th>trip_time_in_hours</th>\n",
       "    </tr>\n",
       "  </thead>\n",
       "  <tbody>\n",
       "    <tr>\n",
       "      <th>count</th>\n",
       "      <td>9999.000000</td>\n",
       "      <td>9999.000000</td>\n",
       "      <td>9999.000000</td>\n",
       "      <td>9999.000000</td>\n",
       "      <td>9999.000000</td>\n",
       "      <td>9999</td>\n",
       "      <td>9999.000000</td>\n",
       "    </tr>\n",
       "    <tr>\n",
       "      <th>mean</th>\n",
       "      <td>2.917597</td>\n",
       "      <td>-72.672719</td>\n",
       "      <td>40.031150</td>\n",
       "      <td>-72.754632</td>\n",
       "      <td>40.077224</td>\n",
       "      <td>0 days 00:15:08.511551</td>\n",
       "      <td>0.252364</td>\n",
       "    </tr>\n",
       "    <tr>\n",
       "      <th>std</th>\n",
       "      <td>3.476382</td>\n",
       "      <td>9.728162</td>\n",
       "      <td>5.358700</td>\n",
       "      <td>9.424608</td>\n",
       "      <td>5.191676</td>\n",
       "      <td>0 days 00:54:53.307400</td>\n",
       "      <td>0.914808</td>\n",
       "    </tr>\n",
       "    <tr>\n",
       "      <th>min</th>\n",
       "      <td>0.000000</td>\n",
       "      <td>-74.105240</td>\n",
       "      <td>0.000000</td>\n",
       "      <td>-74.392609</td>\n",
       "      <td>0.000000</td>\n",
       "      <td>0 days 00:00:00</td>\n",
       "      <td>0.000000</td>\n",
       "    </tr>\n",
       "    <tr>\n",
       "      <th>25%</th>\n",
       "      <td>1.050000</td>\n",
       "      <td>-73.993011</td>\n",
       "      <td>40.733398</td>\n",
       "      <td>-73.992203</td>\n",
       "      <td>40.730145</td>\n",
       "      <td>0 days 00:06:44</td>\n",
       "      <td>0.112222</td>\n",
       "    </tr>\n",
       "    <tr>\n",
       "      <th>50%</th>\n",
       "      <td>1.740000</td>\n",
       "      <td>-73.982910</td>\n",
       "      <td>40.750507</td>\n",
       "      <td>-73.981651</td>\n",
       "      <td>40.748932</td>\n",
       "      <td>0 days 00:10:56</td>\n",
       "      <td>0.182222</td>\n",
       "    </tr>\n",
       "    <tr>\n",
       "      <th>75%</th>\n",
       "      <td>3.250000</td>\n",
       "      <td>-73.969368</td>\n",
       "      <td>40.764191</td>\n",
       "      <td>-73.961784</td>\n",
       "      <td>40.768612</td>\n",
       "      <td>0 days 00:17:23</td>\n",
       "      <td>0.289722</td>\n",
       "    </tr>\n",
       "    <tr>\n",
       "      <th>max</th>\n",
       "      <td>56.900000</td>\n",
       "      <td>0.000000</td>\n",
       "      <td>40.872082</td>\n",
       "      <td>0.000000</td>\n",
       "      <td>41.150688</td>\n",
       "      <td>0 days 23:59:11</td>\n",
       "      <td>23.986389</td>\n",
       "    </tr>\n",
       "  </tbody>\n",
       "</table>\n",
       "</div>"
      ],
      "text/plain": [
       "       trip_distance  pickup_longitude  pickup_latitude  dropoff_longitude  \\\n",
       "count    9999.000000       9999.000000      9999.000000        9999.000000   \n",
       "mean        2.917597        -72.672719        40.031150         -72.754632   \n",
       "std         3.476382          9.728162         5.358700           9.424608   \n",
       "min         0.000000        -74.105240         0.000000         -74.392609   \n",
       "25%         1.050000        -73.993011        40.733398         -73.992203   \n",
       "50%         1.740000        -73.982910        40.750507         -73.981651   \n",
       "75%         3.250000        -73.969368        40.764191         -73.961784   \n",
       "max        56.900000          0.000000        40.872082           0.000000   \n",
       "\n",
       "       dropoff_latitude               trip_time  trip_time_in_hours  \n",
       "count       9999.000000                    9999         9999.000000  \n",
       "mean          40.077224  0 days 00:15:08.511551            0.252364  \n",
       "std            5.191676  0 days 00:54:53.307400            0.914808  \n",
       "min            0.000000         0 days 00:00:00            0.000000  \n",
       "25%           40.730145         0 days 00:06:44            0.112222  \n",
       "50%           40.748932         0 days 00:10:56            0.182222  \n",
       "75%           40.768612         0 days 00:17:23            0.289722  \n",
       "max           41.150688         0 days 23:59:11           23.986389  "
      ]
     },
     "execution_count": 5,
     "metadata": {},
     "output_type": "execute_result"
    }
   ],
   "source": [
    "data.describe()"
   ]
  },
  {
   "cell_type": "markdown",
   "metadata": {
    "deletable": true,
    "editable": true
   },
   "source": [
    "We can see there are several outliers. We will clean these up and check out the new distribution of the data."
   ]
  },
  {
   "cell_type": "code",
   "execution_count": 6,
   "metadata": {
    "collapsed": false,
    "deletable": true,
    "editable": true
   },
   "outputs": [
    {
     "data": {
      "text/html": [
       "<div>\n",
       "<table border=\"1\" class=\"dataframe\">\n",
       "  <thead>\n",
       "    <tr style=\"text-align: right;\">\n",
       "      <th></th>\n",
       "      <th>trip_distance</th>\n",
       "      <th>pickup_longitude</th>\n",
       "      <th>pickup_latitude</th>\n",
       "      <th>dropoff_longitude</th>\n",
       "      <th>dropoff_latitude</th>\n",
       "      <th>trip_time</th>\n",
       "      <th>trip_time_in_hours</th>\n",
       "    </tr>\n",
       "  </thead>\n",
       "  <tbody>\n",
       "    <tr>\n",
       "      <th>count</th>\n",
       "      <td>9749.000000</td>\n",
       "      <td>9749.000000</td>\n",
       "      <td>9749.000000</td>\n",
       "      <td>9749.000000</td>\n",
       "      <td>9749.000000</td>\n",
       "      <td>9749</td>\n",
       "      <td>9749.000000</td>\n",
       "    </tr>\n",
       "    <tr>\n",
       "      <th>mean</th>\n",
       "      <td>2.922506</td>\n",
       "      <td>-73.975115</td>\n",
       "      <td>40.748519</td>\n",
       "      <td>-73.975796</td>\n",
       "      <td>40.749912</td>\n",
       "      <td>0 days 00:13:06.367627</td>\n",
       "      <td>0.218435</td>\n",
       "    </tr>\n",
       "    <tr>\n",
       "      <th>std</th>\n",
       "      <td>3.411741</td>\n",
       "      <td>0.037974</td>\n",
       "      <td>0.026442</td>\n",
       "      <td>0.031006</td>\n",
       "      <td>0.032670</td>\n",
       "      <td>0 days 00:08:52.581678</td>\n",
       "      <td>0.147939</td>\n",
       "    </tr>\n",
       "    <tr>\n",
       "      <th>min</th>\n",
       "      <td>0.020000</td>\n",
       "      <td>-74.105240</td>\n",
       "      <td>40.641090</td>\n",
       "      <td>-74.181320</td>\n",
       "      <td>40.567562</td>\n",
       "      <td>0 days 00:00:37</td>\n",
       "      <td>0.010278</td>\n",
       "    </tr>\n",
       "    <tr>\n",
       "      <th>25%</th>\n",
       "      <td>1.070000</td>\n",
       "      <td>-73.993271</td>\n",
       "      <td>40.734287</td>\n",
       "      <td>-73.992371</td>\n",
       "      <td>40.731110</td>\n",
       "      <td>0 days 00:06:49</td>\n",
       "      <td>0.113611</td>\n",
       "    </tr>\n",
       "    <tr>\n",
       "      <th>50%</th>\n",
       "      <td>1.760000</td>\n",
       "      <td>-73.983383</td>\n",
       "      <td>40.750950</td>\n",
       "      <td>-73.982140</td>\n",
       "      <td>40.749531</td>\n",
       "      <td>0 days 00:10:58</td>\n",
       "      <td>0.182778</td>\n",
       "    </tr>\n",
       "    <tr>\n",
       "      <th>75%</th>\n",
       "      <td>3.270000</td>\n",
       "      <td>-73.970833</td>\n",
       "      <td>40.764400</td>\n",
       "      <td>-73.963181</td>\n",
       "      <td>40.769081</td>\n",
       "      <td>0 days 00:17:21</td>\n",
       "      <td>0.289167</td>\n",
       "    </tr>\n",
       "    <tr>\n",
       "      <th>max</th>\n",
       "      <td>34.900000</td>\n",
       "      <td>-73.756477</td>\n",
       "      <td>40.872082</td>\n",
       "      <td>-73.484543</td>\n",
       "      <td>40.972141</td>\n",
       "      <td>0 days 03:03:04</td>\n",
       "      <td>3.051111</td>\n",
       "    </tr>\n",
       "  </tbody>\n",
       "</table>\n",
       "</div>"
      ],
      "text/plain": [
       "       trip_distance  pickup_longitude  pickup_latitude  dropoff_longitude  \\\n",
       "count    9749.000000       9749.000000      9749.000000        9749.000000   \n",
       "mean        2.922506        -73.975115        40.748519         -73.975796   \n",
       "std         3.411741          0.037974         0.026442           0.031006   \n",
       "min         0.020000        -74.105240        40.641090         -74.181320   \n",
       "25%         1.070000        -73.993271        40.734287         -73.992371   \n",
       "50%         1.760000        -73.983383        40.750950         -73.982140   \n",
       "75%         3.270000        -73.970833        40.764400         -73.963181   \n",
       "max        34.900000        -73.756477        40.872082         -73.484543   \n",
       "\n",
       "       dropoff_latitude               trip_time  trip_time_in_hours  \n",
       "count       9749.000000                    9749         9749.000000  \n",
       "mean          40.749912  0 days 00:13:06.367627            0.218435  \n",
       "std            0.032670  0 days 00:08:52.581678            0.147939  \n",
       "min           40.567562         0 days 00:00:37            0.010278  \n",
       "25%           40.731110         0 days 00:06:49            0.113611  \n",
       "50%           40.749531         0 days 00:10:58            0.182778  \n",
       "75%           40.769081         0 days 00:17:21            0.289167  \n",
       "max           40.972141         0 days 03:03:04            3.051111  "
      ]
     },
     "execution_count": 6,
     "metadata": {},
     "output_type": "execute_result"
    }
   ],
   "source": [
    "data = data[( (data.trip_distance > 0) \n",
    "            & (data.pickup_longitude < 0)\n",
    "            & (data.pickup_latitude > 40.5)\n",
    "            & (data.dropoff_longitude < 0)\n",
    "            & (data.dropoff_longitude > -74.3)\n",
    "            & (data.dropoff_latitude > 40.5)\n",
    "            & (data.dropoff_longitude < 0)\n",
    "            & (data.trip_time_in_hours < 10)\n",
    "            & (data.trip_time_in_hours > 0.01))]\n",
    "\n",
    "data.describe()"
   ]
  },
  {
   "cell_type": "markdown",
   "metadata": {
    "deletable": true,
    "editable": true
   },
   "source": [
    "Looks pretty good. Let's add an average mph feature."
   ]
  },
  {
   "cell_type": "code",
   "execution_count": 7,
   "metadata": {
    "collapsed": false,
    "deletable": true,
    "editable": true
   },
   "outputs": [],
   "source": [
    "data[\"average_mph\"] = data.trip_distance/data.trip_time_in_hours\n",
    "\n",
    "data = data[data.average_mph < 75]"
   ]
  },
  {
   "cell_type": "markdown",
   "metadata": {
    "deletable": true,
    "editable": true
   },
   "source": [
    "Before we decide on the base dataset to use for the analysis going forward, let's explore the data a bit."
   ]
  },
  {
   "cell_type": "code",
   "execution_count": 8,
   "metadata": {
    "collapsed": false,
    "deletable": true,
    "editable": true
   },
   "outputs": [
    {
     "data": {
      "image/png": "[encoded data removed]",
      "text/plain": [
       "<matplotlib.figure.Figure at 0x114050860>"
      ]
     },
     "metadata": {},
     "output_type": "display_data"
    },
    {
     "data": {
      "image/png": "[encoded data removed]",
      "text/plain": [
       "<matplotlib.figure.Figure at 0x1142bf6a0>"
      ]
     },
     "metadata": {},
     "output_type": "display_data"
    }
   ],
   "source": [
    "# Make some histograms\n",
    "var_and_max = [(\"trip_distance\", 10),\n",
    "               (\"average_mph\", 100)]\n",
    "\n",
    "for var, max_val in var_and_max:\n",
    "    data[data[var] < max_val][var].hist(bins=100)\n",
    "    plt.title(\"Distribution of trips based on %s\" % var)\n",
    "    plt.show()"
   ]
  },
  {
   "cell_type": "markdown",
   "metadata": {
    "deletable": true,
    "editable": true
   },
   "source": [
    "Both charts look reasonable.\n",
    "\n",
    "Let's take a look at a plot of the pickup locations."
   ]
  },
  {
   "cell_type": "code",
   "execution_count": 9,
   "metadata": {
    "collapsed": false,
    "deletable": true,
    "editable": true
   },
   "outputs": [
    {
     "data": {
      "image/png": "[encoded data removed]",
      "text/plain": [
       "<matplotlib.figure.Figure at 0x1185de160>"
      ]
     },
     "metadata": {},
     "output_type": "display_data"
    }
   ],
   "source": [
    "data.plot(kind=\"scatter\", \n",
    "               x=\"pickup_latitude\", \n",
    "               xlim=(40.7, 40.825),\n",
    "               y=\"pickup_longitude\", \n",
    "               ylim=(-74.02, -73.94),\n",
    "               c=\"average_mph\",\n",
    "               linewidths=0,\n",
    "               s=2,\n",
    "               colormap=\"viridis\",\n",
    "               figsize=(10,4))\n",
    "plt.axis(\"off\")\n",
    "plt.title(\"Taxi pickup locations\\n\");"
   ]
  },
  {
   "cell_type": "markdown",
   "metadata": {
    "deletable": true,
    "editable": true
   },
   "source": [
    "Very neat. We can see the road networks, see Central Park (based on missing points), see clusters of pickups, and see that the center of Long Island has slower trips on average."
   ]
  },
  {
   "cell_type": "markdown",
   "metadata": {
    "deletable": true,
    "editable": true
   },
   "source": [
    "### Shortest distance"
   ]
  },
  {
   "cell_type": "code",
   "execution_count": 10,
   "metadata": {
    "collapsed": false,
    "deletable": true,
    "editable": true
   },
   "outputs": [
    {
     "ename": "ImportError",
     "evalue": "dlopen(/Users/BlueOwl1/anaconda/envs/OSMNX3/lib/python3.6/site-packages/fiona/ogrext.cpython-36m-darwin.so, 2): Library not loaded: @rpath/libicui18n.56.dylib\n  Referenced from: /Users/BlueOwl1/anaconda/envs/OSMNX3/lib/libgdal.20.dylib\n  Reason: image not found",
     "output_type": "error",
     "traceback": [
      "\u001b[0;31m---------------------------------------------------------------------------\u001b[0m",
      "\u001b[0;31mImportError\u001b[0m                               Traceback (most recent call last)",
      "\u001b[0;32m<ipython-input-10-a592ff119e79>\u001b[0m in \u001b[0;36m<module>\u001b[0;34m()\u001b[0m\n\u001b[0;32m----> 1\u001b[0;31m \u001b[0;32mimport\u001b[0m \u001b[0mosmnx\u001b[0m \u001b[0;32mas\u001b[0m \u001b[0mox\u001b[0m\u001b[0;34m\u001b[0m\u001b[0m\n\u001b[0m",
      "\u001b[0;32m/Users/BlueOwl1/anaconda/envs/OSMNX3/lib/python3.6/site-packages/osmnx/__init__.py\u001b[0m in \u001b[0;36m<module>\u001b[0;34m()\u001b[0m\n\u001b[1;32m      6\u001b[0m \u001b[0;31m###################################################################################################\u001b[0m\u001b[0;34m\u001b[0m\u001b[0;34m\u001b[0m\u001b[0m\n\u001b[1;32m      7\u001b[0m \u001b[0;34m\u001b[0m\u001b[0m\n\u001b[0;32m----> 8\u001b[0;31m \u001b[0;32mfrom\u001b[0m \u001b[0;34m.\u001b[0m\u001b[0mcore\u001b[0m \u001b[0;32mimport\u001b[0m \u001b[0;34m*\u001b[0m\u001b[0;34m\u001b[0m\u001b[0m\n\u001b[0m\u001b[1;32m      9\u001b[0m \u001b[0;32mfrom\u001b[0m \u001b[0;34m.\u001b[0m\u001b[0mplot\u001b[0m \u001b[0;32mimport\u001b[0m \u001b[0;34m*\u001b[0m\u001b[0;34m\u001b[0m\u001b[0m\n\u001b[1;32m     10\u001b[0m \u001b[0;32mfrom\u001b[0m \u001b[0;34m.\u001b[0m\u001b[0mprojection\u001b[0m \u001b[0;32mimport\u001b[0m \u001b[0;34m*\u001b[0m\u001b[0;34m\u001b[0m\u001b[0m\n",
      "\u001b[0;32m/Users/BlueOwl1/anaconda/envs/OSMNX3/lib/python3.6/site-packages/osmnx/core.py\u001b[0m in \u001b[0;36m<module>\u001b[0;34m()\u001b[0m\n\u001b[1;32m     18\u001b[0m \u001b[0;32mimport\u001b[0m \u001b[0mnumpy\u001b[0m \u001b[0;32mas\u001b[0m \u001b[0mnp\u001b[0m\u001b[0;34m\u001b[0m\u001b[0m\n\u001b[1;32m     19\u001b[0m \u001b[0;32mimport\u001b[0m \u001b[0mpandas\u001b[0m \u001b[0;32mas\u001b[0m \u001b[0mpd\u001b[0m\u001b[0;34m\u001b[0m\u001b[0m\n\u001b[0;32m---> 20\u001b[0;31m \u001b[0;32mimport\u001b[0m \u001b[0mgeopandas\u001b[0m \u001b[0;32mas\u001b[0m \u001b[0mgpd\u001b[0m\u001b[0;34m\u001b[0m\u001b[0m\n\u001b[0m\u001b[1;32m     21\u001b[0m \u001b[0;32mimport\u001b[0m \u001b[0mnetworkx\u001b[0m \u001b[0;32mas\u001b[0m \u001b[0mnx\u001b[0m\u001b[0;34m\u001b[0m\u001b[0m\n\u001b[1;32m     22\u001b[0m \u001b[0;34m\u001b[0m\u001b[0m\n",
      "\u001b[0;32m/Users/BlueOwl1/anaconda/envs/OSMNX3/lib/python3.6/site-packages/geopandas/__init__.py\u001b[0m in \u001b[0;36m<module>\u001b[0;34m()\u001b[0m\n\u001b[1;32m      2\u001b[0m \u001b[0;32mfrom\u001b[0m \u001b[0mgeopandas\u001b[0m\u001b[0;34m.\u001b[0m\u001b[0mgeodataframe\u001b[0m \u001b[0;32mimport\u001b[0m \u001b[0mGeoDataFrame\u001b[0m\u001b[0;34m\u001b[0m\u001b[0m\n\u001b[1;32m      3\u001b[0m \u001b[0;34m\u001b[0m\u001b[0m\n\u001b[0;32m----> 4\u001b[0;31m \u001b[0;32mfrom\u001b[0m \u001b[0mgeopandas\u001b[0m\u001b[0;34m.\u001b[0m\u001b[0mio\u001b[0m\u001b[0;34m.\u001b[0m\u001b[0mfile\u001b[0m \u001b[0;32mimport\u001b[0m \u001b[0mread_file\u001b[0m\u001b[0;34m\u001b[0m\u001b[0m\n\u001b[0m\u001b[1;32m      5\u001b[0m \u001b[0;32mfrom\u001b[0m \u001b[0mgeopandas\u001b[0m\u001b[0;34m.\u001b[0m\u001b[0mio\u001b[0m\u001b[0;34m.\u001b[0m\u001b[0msql\u001b[0m \u001b[0;32mimport\u001b[0m \u001b[0mread_postgis\u001b[0m\u001b[0;34m\u001b[0m\u001b[0m\n\u001b[1;32m      6\u001b[0m \u001b[0;32mfrom\u001b[0m \u001b[0mgeopandas\u001b[0m\u001b[0;34m.\u001b[0m\u001b[0mtools\u001b[0m \u001b[0;32mimport\u001b[0m \u001b[0msjoin\u001b[0m\u001b[0;34m\u001b[0m\u001b[0m\n",
      "\u001b[0;32m/Users/BlueOwl1/anaconda/envs/OSMNX3/lib/python3.6/site-packages/geopandas/io/file.py\u001b[0m in \u001b[0;36m<module>\u001b[0;34m()\u001b[0m\n\u001b[1;32m      1\u001b[0m \u001b[0;32mimport\u001b[0m \u001b[0mos\u001b[0m\u001b[0;34m\u001b[0m\u001b[0m\n\u001b[1;32m      2\u001b[0m \u001b[0;34m\u001b[0m\u001b[0m\n\u001b[0;32m----> 3\u001b[0;31m \u001b[0;32mimport\u001b[0m \u001b[0mfiona\u001b[0m\u001b[0;34m\u001b[0m\u001b[0m\n\u001b[0m\u001b[1;32m      4\u001b[0m \u001b[0;32mimport\u001b[0m \u001b[0mnumpy\u001b[0m \u001b[0;32mas\u001b[0m \u001b[0mnp\u001b[0m\u001b[0;34m\u001b[0m\u001b[0m\n\u001b[1;32m      5\u001b[0m \u001b[0;32mfrom\u001b[0m \u001b[0mshapely\u001b[0m\u001b[0;34m.\u001b[0m\u001b[0mgeometry\u001b[0m \u001b[0;32mimport\u001b[0m \u001b[0mmapping\u001b[0m\u001b[0;34m\u001b[0m\u001b[0m\n",
      "\u001b[0;32m/Users/BlueOwl1/anaconda/envs/OSMNX3/lib/python3.6/site-packages/fiona/__init__.py\u001b[0m in \u001b[0;36m<module>\u001b[0;34m()\u001b[0m\n\u001b[1;32m     67\u001b[0m \u001b[0;32mfrom\u001b[0m \u001b[0msix\u001b[0m \u001b[0;32mimport\u001b[0m \u001b[0mstring_types\u001b[0m\u001b[0;34m\u001b[0m\u001b[0m\n\u001b[1;32m     68\u001b[0m \u001b[0;34m\u001b[0m\u001b[0m\n\u001b[0;32m---> 69\u001b[0;31m \u001b[0;32mfrom\u001b[0m \u001b[0mfiona\u001b[0m\u001b[0;34m.\u001b[0m\u001b[0mcollection\u001b[0m \u001b[0;32mimport\u001b[0m \u001b[0mCollection\u001b[0m\u001b[0;34m,\u001b[0m \u001b[0mBytesCollection\u001b[0m\u001b[0;34m,\u001b[0m \u001b[0mvsi_path\u001b[0m\u001b[0;34m\u001b[0m\u001b[0m\n\u001b[0m\u001b[1;32m     70\u001b[0m \u001b[0;32mfrom\u001b[0m \u001b[0mfiona\u001b[0m\u001b[0;34m.\u001b[0m\u001b[0m_drivers\u001b[0m \u001b[0;32mimport\u001b[0m \u001b[0mdriver_count\u001b[0m\u001b[0;34m,\u001b[0m \u001b[0mGDALEnv\u001b[0m\u001b[0;34m\u001b[0m\u001b[0m\n\u001b[1;32m     71\u001b[0m \u001b[0;32mfrom\u001b[0m \u001b[0mfiona\u001b[0m\u001b[0;34m.\u001b[0m\u001b[0mdrvsupport\u001b[0m \u001b[0;32mimport\u001b[0m \u001b[0msupported_drivers\u001b[0m\u001b[0;34m\u001b[0m\u001b[0m\n",
      "\u001b[0;32m/Users/BlueOwl1/anaconda/envs/OSMNX3/lib/python3.6/site-packages/fiona/collection.py\u001b[0m in \u001b[0;36m<module>\u001b[0;34m()\u001b[0m\n\u001b[1;32m      7\u001b[0m \u001b[0;34m\u001b[0m\u001b[0m\n\u001b[1;32m      8\u001b[0m \u001b[0;32mfrom\u001b[0m \u001b[0mfiona\u001b[0m \u001b[0;32mimport\u001b[0m \u001b[0mcompat\u001b[0m\u001b[0;34m\u001b[0m\u001b[0m\n\u001b[0;32m----> 9\u001b[0;31m \u001b[0;32mfrom\u001b[0m \u001b[0mfiona\u001b[0m\u001b[0;34m.\u001b[0m\u001b[0mogrext\u001b[0m \u001b[0;32mimport\u001b[0m \u001b[0mIterator\u001b[0m\u001b[0;34m,\u001b[0m \u001b[0mItemsIterator\u001b[0m\u001b[0;34m,\u001b[0m \u001b[0mKeysIterator\u001b[0m\u001b[0;34m\u001b[0m\u001b[0m\n\u001b[0m\u001b[1;32m     10\u001b[0m \u001b[0;32mfrom\u001b[0m \u001b[0mfiona\u001b[0m\u001b[0;34m.\u001b[0m\u001b[0mogrext\u001b[0m \u001b[0;32mimport\u001b[0m \u001b[0mSession\u001b[0m\u001b[0;34m,\u001b[0m \u001b[0mWritingSession\u001b[0m\u001b[0;34m\u001b[0m\u001b[0m\n\u001b[1;32m     11\u001b[0m from fiona.ogrext import (\n",
      "\u001b[0;31mImportError\u001b[0m: dlopen(/Users/BlueOwl1/anaconda/envs/OSMNX3/lib/python3.6/site-packages/fiona/ogrext.cpython-36m-darwin.so, 2): Library not loaded: @rpath/libicui18n.56.dylib\n  Referenced from: /Users/BlueOwl1/anaconda/envs/OSMNX3/lib/libgdal.20.dylib\n  Reason: image not found"
     ]
    }
   ],
   "source": [
    "import osmnx as ox"
   ]
  },
  {
   "cell_type": "markdown",
   "metadata": {
    "deletable": true,
    "editable": true
   },
   "source": [
    "### Path to points"
   ]
  },
  {
   "cell_type": "markdown",
   "metadata": {
    "deletable": true,
    "editable": true
   },
   "source": [
    "### Counter for all intersections"
   ]
  },
  {
   "cell_type": "code",
   "execution_count": null,
   "metadata": {
    "collapsed": true,
    "deletable": true,
    "editable": true
   },
   "outputs": [],
   "source": []
  }
 ],
 "metadata": {
  "anaconda-cloud": {},
  "kernelspec": {
   "display_name": "Python [default]",
   "language": "python",
   "name": "python3"
  },
  "language_info": {
   "codemirror_mode": {
    "name": "ipython",
    "version": 3
   },
   "file_extension": ".py",
   "mimetype": "text/x-python",
   "name": "python",
   "nbconvert_exporter": "python",
   "pygments_lexer": "ipython3",
   "version": "3.5.2"
  }
 },
 "nbformat": 4,
 "nbformat_minor": 1
}
